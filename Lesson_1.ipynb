{
 "cells": [
  {
   "cell_type": "markdown",
   "id": "7b4c5d26",
   "metadata": {},
   "source": [
    "# Урок 1. Расчет вероятности случайных событий\n",
    "### Задача 1\n",
    "Из колоды в 52 карты извлекаются случайным образом 4 карты:\n",
    "a) Найти вероятность того, что все карты – крести.\n",
    "б) Найти вероятность, что среди 4-х карт окажется хотя бы один туз."
   ]
  },
  {
   "cell_type": "code",
   "execution_count": 1,
   "id": "0ae1df47",
   "metadata": {},
   "outputs": [
    {
     "name": "stdout",
     "output_type": "stream",
     "text": [
      "Hello world\n"
     ]
    }
   ],
   "source": [
    "print('Hello world')"
   ]
  },
  {
   "cell_type": "code",
   "execution_count": 2,
   "id": "c4d7d3e8",
   "metadata": {},
   "outputs": [],
   "source": [
    "from math import factorial"
   ]
  },
  {
   "cell_type": "code",
   "execution_count": 3,
   "id": "ad889562",
   "metadata": {},
   "outputs": [],
   "source": [
    "def combinations(n, k):\n",
    "    return int(factorial(n) / (factorial(k) * factorial(n - k)))"
   ]
  },
  {
   "cell_type": "code",
   "execution_count": 4,
   "id": "ef90e0a3",
   "metadata": {},
   "outputs": [],
   "source": [
    "result = combinations(13, 4) / combinations(52, 4)"
   ]
  },
  {
   "cell_type": "code",
   "execution_count": 5,
   "id": "219427fe",
   "metadata": {},
   "outputs": [
    {
     "name": "stdout",
     "output_type": "stream",
     "text": [
      "Найти вероятность того, что все карты – крести\n",
      "Ответ: 0.0026410564225690276\n"
     ]
    }
   ],
   "source": [
    "print(\"Найти вероятность того, что все карты – крести\")\n",
    "print(f\"Ответ: {result}\")"
   ]
  },
  {
   "cell_type": "code",
   "execution_count": 6,
   "id": "6ccebc43",
   "metadata": {},
   "outputs": [],
   "source": [
    "result = 1 - combinations(48,4) / combinations(52,4)"
   ]
  },
  {
   "cell_type": "code",
   "execution_count": 7,
   "id": "4be9190e",
   "metadata": {},
   "outputs": [
    {
     "name": "stdout",
     "output_type": "stream",
     "text": [
      "Найти вероятность, что среди 4-х карт окажется хотя бы один туз\n",
      "Ответ: 0.2812632745405854\n"
     ]
    }
   ],
   "source": [
    "print(\"Найти вероятность, что среди 4-х карт окажется хотя бы один туз\")\n",
    "print(f\"Ответ: {result}\")"
   ]
  },
  {
   "cell_type": "markdown",
   "id": "8fdf094e",
   "metadata": {},
   "source": [
    "### Задача 2\n",
    "На входной двери подъезда установлен кодовый замок, содержащий десять кнопок с цифрами от 0 до 9.\n",
    "Код содержит три цифры, которые нужно нажать одновременно.\n",
    "Какова вероятность того, что человек, не знающий код, откроет дверь с первой попытки?"
   ]
  },
  {
   "cell_type": "code",
   "execution_count": 8,
   "id": "a473b631",
   "metadata": {},
   "outputs": [],
   "source": [
    "def arrangements(n, k):\n",
    "    return int(factorial(n) / factorial(n - k))"
   ]
  },
  {
   "cell_type": "code",
   "execution_count": 9,
   "id": "2be444a1",
   "metadata": {},
   "outputs": [],
   "source": [
    "result = arrangements(3, 3) / arrangements(10, 3)"
   ]
  },
  {
   "cell_type": "code",
   "execution_count": 10,
   "id": "bcc62881",
   "metadata": {},
   "outputs": [
    {
     "name": "stdout",
     "output_type": "stream",
     "text": [
      "Ответ: 0.008333333333333333\n"
     ]
    }
   ],
   "source": [
    "print(f\"Ответ: {result}\")"
   ]
  },
  {
   "cell_type": "markdown",
   "id": "473f2322",
   "metadata": {},
   "source": [
    "### Задача 3\n",
    "В ящике имеется 15 деталей, из которых 9 окрашены. Рабочий случайным образом извлекает 3 детали. Какова вероятность того, что все извлеченные детали окрашены?"
   ]
  },
  {
   "cell_type": "code",
   "execution_count": 11,
   "id": "30f086b4",
   "metadata": {},
   "outputs": [],
   "source": [
    "result = combinations(9, 3) / combinations(15, 3)"
   ]
  },
  {
   "cell_type": "code",
   "execution_count": 12,
   "id": "a443fcae",
   "metadata": {},
   "outputs": [
    {
     "name": "stdout",
     "output_type": "stream",
     "text": [
      "Ответ: 0.18461538461538463\n"
     ]
    }
   ],
   "source": [
    "print(f\"Ответ: {result}\")"
   ]
  },
  {
   "cell_type": "markdown",
   "id": "e5b08bd6",
   "metadata": {},
   "source": [
    "### Задача 4\n",
    "В лотерее 100 билетов. Из них 2 выигрышных. Какова вероятность того, что 2 приобретенных билета окажутся выигрышными?"
   ]
  },
  {
   "cell_type": "code",
   "execution_count": 13,
   "id": "add85422",
   "metadata": {},
   "outputs": [],
   "source": [
    "result = 1 / combinations(100, 2)"
   ]
  },
  {
   "cell_type": "code",
   "execution_count": 14,
   "id": "89227fce",
   "metadata": {},
   "outputs": [
    {
     "name": "stdout",
     "output_type": "stream",
     "text": [
      "Ответ: 0.00020202020202020202\n"
     ]
    }
   ],
   "source": [
    "print(f\"Ответ: {result}\")"
   ]
  }
 ],
 "metadata": {
  "kernelspec": {
   "display_name": "Python 3",
   "language": "python",
   "name": "python3"
  },
  "language_info": {
   "codemirror_mode": {
    "name": "ipython",
    "version": 3
   },
   "file_extension": ".py",
   "mimetype": "text/x-python",
   "name": "python",
   "nbconvert_exporter": "python",
   "pygments_lexer": "ipython3",
   "version": "3.10.10"
  },
  "vscode": {
   "interpreter": {
    "hash": "9e35676d33e03a9093a17dc7760f2b2aa4960ff6d3c0d7dc06348afdc0ca22c8"
   }
  }
 },
 "nbformat": 4,
 "nbformat_minor": 5
}
