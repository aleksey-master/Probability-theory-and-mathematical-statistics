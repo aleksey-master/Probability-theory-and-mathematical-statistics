{
 "cells": [
  {
   "cell_type": "markdown",
   "id": "29774d36",
   "metadata": {},
   "source": [
    "## Урок 10. Дисперсионный анализ\n",
    "### Задача 1\n",
    "Провести дисперсионный анализ для определения того, есть ли различия среднего роста\n",
    "среди взрослых футболистов, хоккеистов и штангистов.\n",
    "Даны значения роста в трех группах случайно выбранных спортсменов:\n",
    "\n",
    "Футболисты: 173, 175, 180, 178, 177, 185, 183, 182.\n",
    "Хоккеисты: 177, 179, 180, 188, 177, 172, 171, 184, 180.\n",
    "Штангисты: 172, 173, 169, 177, 166, 180, 178, 177, 172, 166, 170."
   ]
  },
  {
   "cell_type": "code",
   "execution_count": 1,
   "id": "c019fbfe",
   "metadata": {},
   "outputs": [],
   "source": [
    "import numpy as np\n",
    "from scipy import stats"
   ]
  },
  {
   "cell_type": "code",
   "execution_count": 2,
   "id": "76d9f5b4",
   "metadata": {},
   "outputs": [],
   "source": [
    "fp = np.array([173, 175, 180, 178, 177, 185, 183, 182], dtype = np.float64)\n",
    "hp = np.array([177, 179, 180, 188, 177, 172, 171, 184, 180], dtype = np.float64)\n",
    "wl = np.array([172, 173, 169, 177, 166, 180, 178, 177, 172, 166, 170], dtype = np.float64)"
   ]
  },
  {
   "cell_type": "code",
   "execution_count": 3,
   "id": "b836aa7a",
   "metadata": {},
   "outputs": [],
   "source": [
    "n1 = fp.shape[0]\n",
    "n2 = hp.shape[0]\n",
    "n3 = wl.shape[0]"
   ]
  },
  {
   "cell_type": "code",
   "execution_count": 4,
   "id": "045b37eb",
   "metadata": {},
   "outputs": [],
   "source": [
    "fp_mean = fp.mean()\n",
    "hp_mean = hp.mean()\n",
    "wl_mean = wl.mean()"
   ]
  },
  {
   "cell_type": "code",
   "execution_count": 5,
   "id": "f1c5b542",
   "metadata": {},
   "outputs": [
    {
     "name": "stdout",
     "output_type": "stream",
     "text": [
      "Среднее значение роста футболистов = 179.12\n",
      "Среднее значение роста хоккеистов = 178.67\n",
      "Среднее значение роста штангистов = 172.73\n"
     ]
    }
   ],
   "source": [
    "print(f\"Среднее значение роста футболистов = {fp_mean:.2f}\")\n",
    "print(f\"Среднее значение роста хоккеистов = {hp_mean:.2f}\")\n",
    "print(f\"Среднее значение роста штангистов = {wl_mean:.2f}\")"
   ]
  },
  {
   "cell_type": "code",
   "execution_count": 6,
   "id": "6c10652d",
   "metadata": {},
   "outputs": [],
   "source": [
    "y = np.concatenate([fp, hp, wl])\n",
    "y_mean = y.mean()"
   ]
  },
  {
   "cell_type": "code",
   "execution_count": 7,
   "id": "037bf1a4",
   "metadata": {},
   "outputs": [
    {
     "name": "stdout",
     "output_type": "stream",
     "text": [
      "Среднее значение роста спортсменов = 176.46\n"
     ]
    }
   ],
   "source": [
    "print(f\"Среднее значение роста спортсменов = {y_mean:.2f}\")"
   ]
  },
  {
   "cell_type": "code",
   "execution_count": 8,
   "id": "a009d805",
   "metadata": {},
   "outputs": [],
   "source": [
    "S2_F = n1 * (fp_mean - y_mean) ** 2 + n2 * (hp_mean - y_mean) ** 2 + n3 * (wl_mean - y_mean) ** 2\n",
    "S2_res = ((fp - fp_mean) ** 2).sum() + ((hp - hp_mean) ** 2).sum() + ((wl - wl_mean) ** 2).sum()\n",
    "\n",
    "S2 = ((y - y_mean) ** 2).sum()"
   ]
  },
  {
   "cell_type": "code",
   "execution_count": 9,
   "id": "c014e7d9",
   "metadata": {},
   "outputs": [
    {
     "name": "stdout",
     "output_type": "stream",
     "text": [
      " Sf^2 = 253.91\n",
      " Sres^2 = 577.06\n",
      "\n",
      " S^2 = Sf^2 + Sres^2\n",
      "830.96 = 830.96\n"
     ]
    }
   ],
   "source": [
    "print(f\" Sf^2 = {S2_F:.2f}\")\n",
    "print(f\" Sres^2 = {S2_res:.2f}\")\n",
    "print()\n",
    "print(f\" S^2 = Sf^2 + Sres^2\")\n",
    "print(f\"{S2:.2f} = {S2_F + S2_res:.2f}\")"
   ]
  },
  {
   "cell_type": "code",
   "execution_count": 10,
   "id": "545bb114",
   "metadata": {},
   "outputs": [],
   "source": [
    "k = 3\n",
    "n = n1 + n2 + n3\n",
    "\n",
    "k1 = k - 1\n",
    "k2 = n - k\n",
    "\n",
    "sigma2_F = S2_F / k1\n",
    "sigma2_res = S2_res / k2"
   ]
  },
  {
   "cell_type": "code",
   "execution_count": 11,
   "id": "644ef431",
   "metadata": {},
   "outputs": [
    {
     "name": "stdout",
     "output_type": "stream",
     "text": [
      "Факторная дисперсия = 126.95\n",
      "Остаточная дисперсия = 23.08\n"
     ]
    }
   ],
   "source": [
    "print(f\"Факторная дисперсия = {sigma2_F:.2f}\")\n",
    "print(f\"Остаточная дисперсия = {sigma2_res:.2f}\")"
   ]
  },
  {
   "cell_type": "code",
   "execution_count": 12,
   "id": "8d39f508",
   "metadata": {},
   "outputs": [],
   "source": [
    "T = sigma2_F / sigma2_res"
   ]
  },
  {
   "cell_type": "code",
   "execution_count": 13,
   "id": "2b469ad9",
   "metadata": {},
   "outputs": [
    {
     "name": "stdout",
     "output_type": "stream",
     "text": [
      "Значение статистики = 5.50\n"
     ]
    }
   ],
   "source": [
    "print(f\"Значение статистики = {T:.2f}\")"
   ]
  },
  {
   "cell_type": "code",
   "execution_count": 14,
   "id": "da7f8bbc",
   "metadata": {},
   "outputs": [
    {
     "data": {
      "text/plain": [
       "F_onewayResult(statistic=5.500053450812596, pvalue=0.010482206918698694)"
      ]
     },
     "execution_count": 14,
     "metadata": {},
     "output_type": "execute_result"
    }
   ],
   "source": [
    "f = stats.f_oneway(fp, hp, wl)\n",
    "f"
   ]
  },
  {
   "cell_type": "code",
   "execution_count": 15,
   "id": "9a173a74",
   "metadata": {},
   "outputs": [],
   "source": [
    "alpha = 0.05\n",
    "\n",
    "F_crit = stats.f.ppf(1 - alpha, k1, k2)"
   ]
  },
  {
   "cell_type": "code",
   "execution_count": 16,
   "id": "bb055758",
   "metadata": {},
   "outputs": [
    {
     "name": "stdout",
     "output_type": "stream",
     "text": [
      "Критическое значение = 3.39\n"
     ]
    }
   ],
   "source": [
    "print(f\"Критическое значение = {F_crit:.2f}\")"
   ]
  },
  {
   "cell_type": "markdown",
   "id": "95c5f769",
   "metadata": {},
   "source": [
    "Так как T > F_crit делаем вывод, что отличие среднего роста спортсменов является статистически значимым"
   ]
  },
  {
   "cell_type": "code",
   "execution_count": null,
   "id": "fbe62b56",
   "metadata": {},
   "outputs": [],
   "source": []
  }
 ],
 "metadata": {
  "kernelspec": {
   "display_name": "Python 3 (ipykernel)",
   "language": "python",
   "name": "python3"
  },
  "language_info": {
   "codemirror_mode": {
    "name": "ipython",
    "version": 3
   },
   "file_extension": ".py",
   "mimetype": "text/x-python",
   "name": "python",
   "nbconvert_exporter": "python",
   "pygments_lexer": "ipython3",
   "version": "3.9.13"
  }
 },
 "nbformat": 4,
 "nbformat_minor": 5
}
